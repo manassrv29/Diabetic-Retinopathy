{
 "cells": [
  {
   "cell_type": "markdown",
   "metadata": {
    "papermill": {
     "duration": 0.021224,
     "end_time": "2021-08-14T14:01:00.746353",
     "exception": false,
     "start_time": "2021-08-14T14:01:00.725129",
     "status": "completed"
    },
    "tags": []
   },
   "source": [
    "# <center>Diabetic Retinopathy Detection using PyTorch<center>"
   ]
  },
  {
   "cell_type": "markdown",
   "metadata": {
    "papermill": {
     "duration": 0.019832,
     "end_time": "2021-08-14T14:01:00.786448",
     "exception": false,
     "start_time": "2021-08-14T14:01:00.766616",
     "status": "completed"
    },
    "tags": []
   },
   "source": [
    "<img src = 'https://raw.githubusercontent.com/dimitreOliveira/APTOS2019BlindnessDetection/master/Assets/banner.png' >"
   ]
  },
  {
   "cell_type": "markdown",
   "metadata": {
    "papermill": {
     "duration": 0.019958,
     "end_time": "2021-08-14T14:01:00.826801",
     "exception": false,
     "start_time": "2021-08-14T14:01:00.806843",
     "status": "completed"
    },
    "tags": []
   },
   "source": [
    "### What is Diabetic Retinopathy?\n",
    "Diabetic Retinopathy is a condition that can cause Vision loss and Blindness in the people who have Diabetes. It affects the blood vessels in the Retina. It is one of the leading cause of Blindness across the world. Diabetic retinopathy may not have any symptoms at first, but finding it early can help you take steps to protect your vision. \n",
    "### Problem Statement :\n",
    "The problem is to perform Image Classification. Given an image (fundus photographs), You have to predict which class does the given image belongs to. The Classes to predict are :\n",
    "*  0 - Normal <br>\n",
    "*  1 - Mild <br>\n",
    "*  2 - Moderate <br>\n",
    "*  3 - Severe <br>\n",
    "*  4 - Proliferative <br>"
   ]
  },
  {
   "cell_type": "markdown",
   "metadata": {
    "papermill": {
     "duration": 0.019964,
     "end_time": "2021-08-14T14:01:00.866886",
     "exception": false,
     "start_time": "2021-08-14T14:01:00.846922",
     "status": "completed"
    },
    "tags": []
   },
   "source": [
    "<img src = 'https://repository-images.githubusercontent.com/195603342/63983100-b4a6-11e9-846c-99b9465f7b3b'>"
   ]
  },
  {
   "cell_type": "markdown",
   "metadata": {
    "papermill": {
     "duration": 0.019953,
     "end_time": "2021-08-14T14:01:00.907032",
     "exception": false,
     "start_time": "2021-08-14T14:01:00.887079",
     "status": "completed"
    },
    "tags": []
   },
   "source": [
    "## Import Libraries"
   ]
  },
  {
   "cell_type": "code",
   "execution_count": 1,
   "metadata": {
    "execution": {
     "iopub.execute_input": "2021-08-14T14:01:00.953015Z",
     "iopub.status.busy": "2021-08-14T14:01:00.951469Z",
     "iopub.status.idle": "2021-08-14T14:01:02.329718Z",
     "shell.execute_reply": "2021-08-14T14:01:02.329051Z",
     "shell.execute_reply.started": "2021-08-14T13:41:58.127697Z"
    },
    "papermill": {
     "duration": 1.402735,
     "end_time": "2021-08-14T14:01:02.329884",
     "exception": false,
     "start_time": "2021-08-14T14:01:00.927149",
     "status": "completed"
    },
    "tags": []
   },
   "outputs": [],
   "source": [
    "import pandas as pd #For reading csv files.\n",
    "import numpy as np \n",
    "import matplotlib.pyplot as plt #For plotting.\n",
    "\n",
    "import PIL.Image as Image #For working with image files.\n",
    "\n",
    "#Importing torch\n",
    "import torch\n",
    "import torch.nn as nn\n",
    "import torch.nn.functional as F\n",
    "\n",
    "from torch.utils.data import Dataset,DataLoader #For working with data.\n",
    "\n",
    "from torchvision import models,transforms #For pretrained models,image transformations."
   ]
  },
  {
   "cell_type": "code",
   "execution_count": 2,
   "metadata": {
    "execution": {
     "iopub.execute_input": "2021-08-14T14:01:02.417123Z",
     "iopub.status.busy": "2021-08-14T14:01:02.415790Z",
     "iopub.status.idle": "2021-08-14T14:01:02.422396Z",
     "shell.execute_reply": "2021-08-14T14:01:02.423008Z",
     "shell.execute_reply.started": "2021-08-14T13:42:02.976794Z"
    },
    "papermill": {
     "duration": 0.071576,
     "end_time": "2021-08-14T14:01:02.423193",
     "exception": false,
     "start_time": "2021-08-14T14:01:02.351617",
     "status": "completed"
    },
    "tags": []
   },
   "outputs": [
    {
     "name": "stdout",
     "output_type": "stream",
     "text": [
      "cuda\n"
     ]
    }
   ],
   "source": [
    "device = torch.device('cuda' if torch.cuda.is_available() else 'cpu') #Use GPU if it's available or else use CPU.\n",
    "print(device) #Prints the device we're using."
   ]
  },
  {
   "cell_type": "markdown",
   "metadata": {
    "papermill": {
     "duration": 0.020833,
     "end_time": "2021-08-14T14:01:02.465698",
     "exception": false,
     "start_time": "2021-08-14T14:01:02.444865",
     "status": "completed"
    },
    "tags": []
   },
   "source": [
    "## EDA"
   ]
  },
  {
   "cell_type": "markdown",
   "metadata": {
    "papermill": {
     "duration": 0.019861,
     "end_time": "2021-08-14T14:01:02.505588",
     "exception": false,
     "start_time": "2021-08-14T14:01:02.485727",
     "status": "completed"
    },
    "tags": []
   },
   "source": [
    "I am using only the data from https://www.kaggle.com/c/aptos2019-blindness-detection/data. If you've more computing resources, you can also use the data from https://www.kaggle.com/c/diabetic-retinopathy-detection/data."
   ]
  },
  {
   "cell_type": "code",
   "execution_count": 3,
   "metadata": {
    "execution": {
     "iopub.execute_input": "2021-08-14T14:01:02.550522Z",
     "iopub.status.busy": "2021-08-14T14:01:02.549930Z",
     "iopub.status.idle": "2021-08-14T14:01:02.584600Z",
     "shell.execute_reply": "2021-08-14T14:01:02.584137Z",
     "shell.execute_reply.started": "2021-08-14T13:42:05.846917Z"
    },
    "papermill": {
     "duration": 0.058978,
     "end_time": "2021-08-14T14:01:02.584716",
     "exception": false,
     "start_time": "2021-08-14T14:01:02.525738",
     "status": "completed"
    },
    "tags": []
   },
   "outputs": [
    {
     "name": "stdout",
     "output_type": "stream",
     "text": [
      "No.of.training_samples: 3662\n",
      "No.of.testing_samples: 1928\n"
     ]
    }
   ],
   "source": [
    "path = \"/kaggle/input/aptos2019-blindness-detection/\"\n",
    "\n",
    "train_df = pd.read_csv(f\"{path}train.csv\")\n",
    "print(f'No.of.training_samples: {len(train_df)}')\n",
    "\n",
    "test_df = pd.read_csv(f'{path}test.csv')\n",
    "print(f'No.of.testing_samples: {len(test_df)}')"
   ]
  },
  {
   "cell_type": "code",
   "execution_count": 4,
   "metadata": {
    "execution": {
     "iopub.execute_input": "2021-08-14T14:01:02.634872Z",
     "iopub.status.busy": "2021-08-14T14:01:02.634290Z",
     "iopub.status.idle": "2021-08-14T14:01:02.784385Z",
     "shell.execute_reply": "2021-08-14T14:01:02.784822Z",
     "shell.execute_reply.started": "2021-08-14T13:42:07.397015Z"
    },
    "papermill": {
     "duration": 0.179467,
     "end_time": "2021-08-14T14:01:02.784971",
     "exception": false,
     "start_time": "2021-08-14T14:01:02.605504",
     "status": "completed"
    },
    "tags": []
   },
   "outputs": [
    {
     "data": {
      "image/png": "[encoded data removed]",
      "text/plain": [
       "<Figure size 432x288 with 1 Axes>"
      ]
     },
     "metadata": {
      "needs_background": "light"
     },
     "output_type": "display_data"
    }
   ],
   "source": [
    "#Histogram of label counts.\n",
    "train_df.diagnosis.hist()\n",
    "plt.xticks([0,1,2,3,4])\n",
    "plt.grid(False)\n",
    "plt.show() "
   ]
  },
  {
   "cell_type": "code",
   "execution_count": 5,
   "metadata": {
    "execution": {
     "iopub.execute_input": "2021-08-14T14:01:02.837327Z",
     "iopub.status.busy": "2021-08-14T14:01:02.836761Z",
     "iopub.status.idle": "2021-08-14T14:01:07.824250Z",
     "shell.execute_reply": "2021-08-14T14:01:07.823738Z",
     "shell.execute_reply.started": "2021-08-14T13:42:09.292036Z"
    },
    "papermill": {
     "duration": 5.016532,
     "end_time": "2021-08-14T14:01:07.824378",
     "exception": false,
     "start_time": "2021-08-14T14:01:02.807846",
     "status": "completed"
    },
    "tags": []
   },
   "outputs": [
    {
     "name": "stdout",
     "output_type": "stream",
     "text": [
      "tensor([0.4058, 1.9795, 0.7331, 3.7948, 2.4827], device='cuda:0')\n"
     ]
    }
   ],
   "source": [
    "#As you can see,the data is imbalanced.\n",
    "#So we've to calculate weights for each class,which can be used in calculating loss.\n",
    "\n",
    "from sklearn.utils import class_weight #For calculating weights for each class.\n",
    "class_weights = class_weight.compute_class_weight(class_weight='balanced',classes=np.array([0,1,2,3,4]),y=train_df['diagnosis'].values)\n",
    "class_weights = torch.tensor(class_weights,dtype=torch.float).to(device)\n",
    " \n",
    "print(class_weights) #Prints the calculated weights for the classes."
   ]
  },
  {
   "cell_type": "code",
   "execution_count": 6,
   "metadata": {
    "execution": {
     "iopub.execute_input": "2021-08-14T14:01:07.872552Z",
     "iopub.status.busy": "2021-08-14T14:01:07.872039Z",
     "iopub.status.idle": "2021-08-14T14:01:08.670883Z",
     "shell.execute_reply": "2021-08-14T14:01:08.671283Z",
     "shell.execute_reply.started": "2021-08-14T13:42:16.982180Z"
    },
    "papermill": {
     "duration": 0.825229,
     "end_time": "2021-08-14T14:01:08.671423",
     "exception": false,
     "start_time": "2021-08-14T14:01:07.846194",
     "status": "completed"
    },
    "tags": []
   },
   "outputs": [
    {
     "data": {
      "image/png": "[encoded data removed]",
      "text/plain": [
       "<Figure size 432x288 with 1 Axes>"
      ]
     },
     "metadata": {
      "needs_background": "light"
     },
     "output_type": "display_data"
    }
   ],
   "source": [
    "#For getting a random image from our training set.\n",
    "num = int(np.random.randint(0,len(train_df)-1,(1,))) #Picks a random number.\n",
    "sample_image = (f'{path}train_images/{train_df[\"id_code\"][num]}.png')#Image file.\n",
    "sample_image = Image.open(sample_image) \n",
    "plt.imshow(sample_image)\n",
    "plt.axis('off')\n",
    "plt.title(f'Class: {train_df[\"diagnosis\"][num]}') #Class of the random image.\n",
    "plt.show()"
   ]
  },
  {
   "cell_type": "markdown",
   "metadata": {
    "papermill": {
     "duration": 0.023723,
     "end_time": "2021-08-14T14:01:08.719081",
     "exception": false,
     "start_time": "2021-08-14T14:01:08.695358",
     "status": "completed"
    },
    "tags": []
   },
   "source": [
    "## Preprocess the Data"
   ]
  },
  {
   "cell_type": "code",
   "execution_count": 7,
   "metadata": {
    "execution": {
     "iopub.execute_input": "2021-08-14T14:01:08.774921Z",
     "iopub.status.busy": "2021-08-14T14:01:08.774124Z",
     "iopub.status.idle": "2021-08-14T14:01:08.776763Z",
     "shell.execute_reply": "2021-08-14T14:01:08.776243Z",
     "shell.execute_reply.started": "2021-08-14T13:42:26.493572Z"
    },
    "papermill": {
     "duration": 0.033772,
     "end_time": "2021-08-14T14:01:08.776882",
     "exception": false,
     "start_time": "2021-08-14T14:01:08.743110",
     "status": "completed"
    },
    "tags": []
   },
   "outputs": [],
   "source": [
    "class dataset(Dataset): # Inherits from the Dataset class.\n",
    "    '''\n",
    "    dataset class overloads the __init__, __len__, __getitem__ methods of the Dataset class. \n",
    "    \n",
    "    Attributes :\n",
    "        df:  DataFrame object for the csv file.\n",
    "        data_path: Location of the dataset.\n",
    "        image_transform: Transformations to apply to the image.\n",
    "        train: A boolean indicating whether it is a training_set or not.\n",
    "    '''\n",
    "    \n",
    "    def __init__(self,df,data_path,image_transform=None,train=True): # Constructor.\n",
    "        super(Dataset,self).__init__() #Calls the constructor of the Dataset class.\n",
    "        self.df = df\n",
    "        self.data_path = data_path\n",
    "        self.image_transform = image_transform\n",
    "        self.train = train\n",
    "        \n",
    "    def __len__(self):\n",
    "        return len(self.df) #Returns the number of samples in the dataset.\n",
    "    \n",
    "    def __getitem__(self,index):\n",
    "        image_id = self.df['id_code'][index]\n",
    "        image = Image.open(f'{self.data_path}/{image_id}.png') #Image.\n",
    "        if self.image_transform :\n",
    "            image = self.image_transform(image) #Applies transformation to the image.\n",
    "        \n",
    "        if self.train :\n",
    "            label = self.df['diagnosis'][index] #Label.\n",
    "            return image,label #If train == True, return image & label.\n",
    "        \n",
    "        else:\n",
    "            return image #If train != True, return image.\n",
    "            "
   ]
  },
  {
   "cell_type": "code",
   "execution_count": 8,
   "metadata": {
    "execution": {
     "iopub.execute_input": "2021-08-14T14:01:08.831371Z",
     "iopub.status.busy": "2021-08-14T14:01:08.830798Z",
     "iopub.status.idle": "2021-08-14T14:01:08.834934Z",
     "shell.execute_reply": "2021-08-14T14:01:08.835300Z",
     "shell.execute_reply.started": "2021-08-14T13:50:55.408039Z"
    },
    "papermill": {
     "duration": 0.034764,
     "end_time": "2021-08-14T14:01:08.835449",
     "exception": false,
     "start_time": "2021-08-14T14:01:08.800685",
     "status": "completed"
    },
    "tags": []
   },
   "outputs": [],
   "source": [
    "image_transform = transforms.Compose([transforms.Resize([512,512]),\n",
    "                                      transforms.ToTensor(),\n",
    "                                      transforms.Normalize((0.485, 0.456, 0.406), (0.229, 0.224, 0.225))]) #Transformations to apply to the image.\n",
    "data_set = dataset(train_df,f'{path}train_images',image_transform=image_transform)\n",
    "\n",
    "#Split the data_set so that valid_set contains 0.1 samples of the data_set. \n",
    "train_set,valid_set = torch.utils.data.random_split(data_set,[3302,360])"
   ]
  },
  {
   "cell_type": "code",
   "execution_count": 9,
   "metadata": {
    "execution": {
     "iopub.execute_input": "2021-08-14T14:01:08.888842Z",
     "iopub.status.busy": "2021-08-14T14:01:08.887913Z",
     "iopub.status.idle": "2021-08-14T14:01:08.890539Z",
     "shell.execute_reply": "2021-08-14T14:01:08.890117Z",
     "shell.execute_reply.started": "2021-08-14T13:50:56.796915Z"
    },
    "papermill": {
     "duration": 0.031069,
     "end_time": "2021-08-14T14:01:08.890652",
     "exception": false,
     "start_time": "2021-08-14T14:01:08.859583",
     "status": "completed"
    },
    "tags": []
   },
   "outputs": [],
   "source": [
    "train_dataloader = DataLoader(train_set,batch_size=32,shuffle=True) #DataLoader for train_set.\n",
    "valid_dataloader = DataLoader(valid_set,batch_size=32,shuffle=False) #DataLoader for validation_set."
   ]
  },
  {
   "cell_type": "markdown",
   "metadata": {
    "papermill": {
     "duration": 0.023786,
     "end_time": "2021-08-14T14:01:08.938549",
     "exception": false,
     "start_time": "2021-08-14T14:01:08.914763",
     "status": "completed"
    },
    "tags": []
   },
   "source": [
    "## Build the Model"
   ]
  },
  {
   "cell_type": "code",
   "execution_count": 10,
   "metadata": {
    "execution": {
     "iopub.execute_input": "2021-08-14T14:01:08.994773Z",
     "iopub.status.busy": "2021-08-14T14:01:08.994143Z",
     "iopub.status.idle": "2021-08-14T14:01:10.550369Z",
     "shell.execute_reply": "2021-08-14T14:01:10.549898Z",
     "shell.execute_reply.started": "2021-08-14T13:51:25.562742Z"
    },
    "papermill": {
     "duration": 1.588248,
     "end_time": "2021-08-14T14:01:10.550514",
     "exception": false,
     "start_time": "2021-08-14T14:01:08.962266",
     "status": "completed"
    },
    "tags": []
   },
   "outputs": [
    {
     "name": "stderr",
     "output_type": "stream",
     "text": [
      "Downloading: \"https://download.pytorch.org/models/resnet34-333f7ec4.pth\" to /root/.cache/torch/hub/checkpoints/resnet34-333f7ec4.pth\n"
     ]
    },
    {
     "data": {
      "application/vnd.jupyter.widget-view+json": {
       "model_id": "64ce717ebfad411faf6e93ed9d752e80",
       "version_major": 2,
       "version_minor": 0
      },
      "text/plain": [
       "  0%|          | 0.00/83.3M [00:00<?, ?B/s]"
      ]
     },
     "metadata": {},
     "output_type": "display_data"
    }
   ],
   "source": [
    "#Since we've less data, we'll use Transfer learning.\n",
    "model = models.resnet34(pretrained=True) #Downloads the resnet18 model which is pretrained on Imagenet dataset.\n",
    "\n",
    "#Replace the Final layer of pretrained resnet18 with 4 new layers.\n",
    "model.fc = nn.Sequential(nn.Linear(512,256),nn.Linear(256,128),nn.Linear(128,64),nn.Linear(64,5))"
   ]
  },
  {
   "cell_type": "code",
   "execution_count": 11,
   "metadata": {
    "execution": {
     "iopub.execute_input": "2021-08-14T14:01:10.603824Z",
     "iopub.status.busy": "2021-08-14T14:01:10.603247Z",
     "iopub.status.idle": "2021-08-14T14:01:10.638262Z",
     "shell.execute_reply": "2021-08-14T14:01:10.637774Z",
     "shell.execute_reply.started": "2021-08-14T13:51:26.088468Z"
    },
    "papermill": {
     "duration": 0.062933,
     "end_time": "2021-08-14T14:01:10.638390",
     "exception": false,
     "start_time": "2021-08-14T14:01:10.575457",
     "status": "completed"
    },
    "tags": []
   },
   "outputs": [],
   "source": [
    "model = model.to(device) #Moves the model to the device."
   ]
  },
  {
   "cell_type": "markdown",
   "metadata": {
    "papermill": {
     "duration": 0.025107,
     "end_time": "2021-08-14T14:01:10.688213",
     "exception": false,
     "start_time": "2021-08-14T14:01:10.663106",
     "status": "completed"
    },
    "tags": []
   },
   "source": [
    "## Create functions for Training & Validation"
   ]
  },
  {
   "cell_type": "code",
   "execution_count": 12,
   "metadata": {
    "execution": {
     "iopub.execute_input": "2021-08-14T14:01:10.745798Z",
     "iopub.status.busy": "2021-08-14T14:01:10.745031Z",
     "iopub.status.idle": "2021-08-14T14:01:10.747739Z",
     "shell.execute_reply": "2021-08-14T14:01:10.747318Z",
     "shell.execute_reply.started": "2021-08-14T13:51:26.897341Z"
    },
    "papermill": {
     "duration": 0.034907,
     "end_time": "2021-08-14T14:01:10.747861",
     "exception": false,
     "start_time": "2021-08-14T14:01:10.712954",
     "status": "completed"
    },
    "tags": []
   },
   "outputs": [],
   "source": [
    "def train(dataloader,model,loss_fn,optimizer):\n",
    "    '''\n",
    "    train function updates the weights of the model based on the\n",
    "    loss using the optimizer in order to get a lower loss.\n",
    "    \n",
    "    Args :\n",
    "         dataloader: Iterator for the batches in the data_set.\n",
    "         model: Given an input produces an output by multiplying the input with the model weights.\n",
    "         loss_fn: Calculates the discrepancy between the label & the model's predictions.\n",
    "         optimizer: Updates the model weights.\n",
    "         \n",
    "    Returns :\n",
    "         Average loss per batch which is calculated by dividing the losses for all the batches\n",
    "         with the number of batches.\n",
    "    '''\n",
    "\n",
    "    model.train() #Sets the model for training.\n",
    "    \n",
    "    total = 0\n",
    "    correct = 0\n",
    "    running_loss = 0\n",
    "    \n",
    "    for batch,(x,y) in enumerate(dataloader): #Iterates through the batches.\n",
    "        \n",
    "        output = model(x.to(device)) #model's predictions.\n",
    "        loss   = loss_fn(output,y.to(device)) #loss calculation.\n",
    "       \n",
    "        running_loss += loss.item()\n",
    "        \n",
    "        total        += y.size(0)\n",
    "        predictions   = output.argmax(dim=1).cpu().detach() #Index for the highest score for all the samples in the batch.\n",
    "        correct      += (predictions == y.cpu().detach()).sum().item() #No.of.cases where model's predictions are equal to the label.\n",
    "        \n",
    "        optimizer.zero_grad() #Gradient values are set to zero.\n",
    "        loss.backward() #Calculates the gradients.\n",
    "        optimizer.step() #Updates the model weights.\n",
    "             \n",
    "    \n",
    "    avg_loss = running_loss/len(dataloader) # Average loss for a single batch\n",
    "    \n",
    "    print(f'\\nTraining Loss per batch = {avg_loss:.6f}',end='\\t')\n",
    "    print(f'Accuracy on Training set = {100*(correct/total):.6f}% [{correct}/{total}]') #Prints the Accuracy.\n",
    "    \n",
    "    return avg_loss"
   ]
  },
  {
   "cell_type": "code",
   "execution_count": 13,
   "metadata": {
    "execution": {
     "iopub.execute_input": "2021-08-14T14:01:10.804193Z",
     "iopub.status.busy": "2021-08-14T14:01:10.803466Z",
     "iopub.status.idle": "2021-08-14T14:01:10.806211Z",
     "shell.execute_reply": "2021-08-14T14:01:10.805802Z",
     "shell.execute_reply.started": "2021-08-14T13:51:27.272127Z"
    },
    "papermill": {
     "duration": 0.034128,
     "end_time": "2021-08-14T14:01:10.806321",
     "exception": false,
     "start_time": "2021-08-14T14:01:10.772193",
     "status": "completed"
    },
    "tags": []
   },
   "outputs": [],
   "source": [
    "def validate(dataloader,model,loss_fn):\n",
    "    '''\n",
    "    validate function calculates the average loss per batch and the accuracy of the model's predictions.\n",
    "    \n",
    "    Args :\n",
    "         dataloader: Iterator for the batches in the data_set.\n",
    "         model: Given an input produces an output by multiplying the input with the model weights.\n",
    "         loss_fn: Calculates the discrepancy between the label & the model's predictions.\n",
    "    \n",
    "    Returns :\n",
    "         Average loss per batch which is calculated by dividing the losses for all the batches\n",
    "         with the number of batches.\n",
    "    '''\n",
    "    \n",
    "    model.eval() #Sets the model for evaluation.\n",
    "    \n",
    "    total = 0\n",
    "    correct = 0\n",
    "    running_loss = 0\n",
    "    \n",
    "    with torch.no_grad(): #No need to calculate the gradients.\n",
    "        \n",
    "        for x,y in dataloader:\n",
    "            \n",
    "            output        = model(x.to(device)) #model's output.\n",
    "            loss          = loss_fn(output,y.to(device)).item() #loss calculation.\n",
    "            running_loss += loss\n",
    "            \n",
    "            total        += y.size(0)\n",
    "            predictions   = output.argmax(dim=1).cpu().detach()\n",
    "            correct      += (predictions == y.cpu().detach()).sum().item()\n",
    "            \n",
    "    avg_loss = running_loss/len(dataloader) #Average loss per batch.      \n",
    "    \n",
    "    print(f'\\nValidation Loss per batch = {avg_loss:.6f}',end='\\t')\n",
    "    print(f'Accuracy on Validation set = {100*(correct/total):.6f}% [{correct}/{total}]') #Prints the Accuracy.\n",
    "    \n",
    "    return avg_loss"
   ]
  },
  {
   "cell_type": "markdown",
   "metadata": {
    "papermill": {
     "duration": 0.024312,
     "end_time": "2021-08-14T14:01:10.854931",
     "exception": false,
     "start_time": "2021-08-14T14:01:10.830619",
     "status": "completed"
    },
    "tags": []
   },
   "source": [
    "## Optimize the Model"
   ]
  },
  {
   "cell_type": "code",
   "execution_count": 14,
   "metadata": {
    "execution": {
     "iopub.execute_input": "2021-08-14T14:01:10.910880Z",
     "iopub.status.busy": "2021-08-14T14:01:10.910002Z",
     "iopub.status.idle": "2021-08-14T14:01:10.912595Z",
     "shell.execute_reply": "2021-08-14T14:01:10.912139Z",
     "shell.execute_reply.started": "2021-08-14T13:51:27.907442Z"
    },
    "papermill": {
     "duration": 0.033381,
     "end_time": "2021-08-14T14:01:10.912706",
     "exception": false,
     "start_time": "2021-08-14T14:01:10.879325",
     "status": "completed"
    },
    "tags": []
   },
   "outputs": [],
   "source": [
    "def optimize(train_dataloader,valid_dataloader,model,loss_fn,optimizer,nb_epochs):\n",
    "    '''\n",
    "    optimize function calls the train & validate functions for (nb_epochs) times.\n",
    "    \n",
    "    Args :\n",
    "        train_dataloader: DataLoader for the train_set.\n",
    "        valid_dataloader: DataLoader for the valid_set.\n",
    "        model: Given an input produces an output by multiplying the input with the model weights.\n",
    "        loss_fn: Calculates the discrepancy between the label & the model's predictions.\n",
    "        optimizer: Updates the model weights.\n",
    "        nb_epochs: Number of epochs.\n",
    "        \n",
    "    Returns :\n",
    "        Tuple of lists containing losses for all the epochs.\n",
    "    '''\n",
    "    #Lists to store losses for all the epochs.\n",
    "    train_losses = []\n",
    "    valid_losses = []\n",
    "\n",
    "    for epoch in range(nb_epochs):\n",
    "        print(f'\\nEpoch {epoch+1}/{nb_epochs}')\n",
    "        print('-------------------------------')\n",
    "        train_loss = train(train_dataloader,model,loss_fn,optimizer) #Calls the train function.\n",
    "        train_losses.append(train_loss)\n",
    "        valid_loss = validate(valid_dataloader,model,loss_fn) #Calls the validate function.\n",
    "        valid_losses.append(valid_loss)\n",
    "    \n",
    "    print('\\nTraining has completed!')\n",
    "    \n",
    "    return train_losses,valid_losses"
   ]
  },
  {
   "cell_type": "code",
   "execution_count": 15,
   "metadata": {
    "execution": {
     "iopub.execute_input": "2021-08-14T14:01:10.970665Z",
     "iopub.status.busy": "2021-08-14T14:01:10.970060Z",
     "iopub.status.idle": "2021-08-14T18:03:58.123305Z",
     "shell.execute_reply": "2021-08-14T18:03:58.123748Z",
     "shell.execute_reply.started": "2021-08-14T13:56:12.246969Z"
    },
    "papermill": {
     "duration": 14567.186613,
     "end_time": "2021-08-14T18:03:58.123921",
     "exception": false,
     "start_time": "2021-08-14T14:01:10.937308",
     "status": "completed"
    },
    "tags": []
   },
   "outputs": [
    {
     "name": "stdout",
     "output_type": "stream",
     "text": [
      "\n",
      "Epoch 1/30\n",
      "-------------------------------\n",
      "\n",
      "Training Loss per batch = 1.617871\tAccuracy on Training set = 26.529376% [876/3302]\n",
      "\n",
      "Validation Loss per batch = 1.600907\tAccuracy on Validation set = 27.777778% [100/360]\n",
      "\n",
      "Epoch 2/30\n",
      "-------------------------------\n",
      "\n",
      "Training Loss per batch = 1.585840\tAccuracy on Training set = 31.980618% [1056/3302]\n",
      "\n",
      "Validation Loss per batch = 1.572229\tAccuracy on Validation set = 62.222222% [224/360]\n",
      "\n",
      "Epoch 3/30\n",
      "-------------------------------\n",
      "\n",
      "Training Loss per batch = 1.559127\tAccuracy on Training set = 62.840703% [2075/3302]\n",
      "\n",
      "Validation Loss per batch = 1.540123\tAccuracy on Validation set = 64.444444% [232/360]\n",
      "\n",
      "Epoch 4/30\n",
      "-------------------------------\n",
      "\n",
      "Training Loss per batch = 1.528845\tAccuracy on Training set = 64.082374% [2116/3302]\n",
      "\n",
      "Validation Loss per batch = 1.505681\tAccuracy on Validation set = 68.333333% [246/360]\n",
      "\n",
      "Epoch 5/30\n",
      "-------------------------------\n",
      "\n",
      "Training Loss per batch = 1.494670\tAccuracy on Training set = 67.171411% [2218/3302]\n",
      "\n",
      "Validation Loss per batch = 1.461461\tAccuracy on Validation set = 73.333333% [264/360]\n",
      "\n",
      "Epoch 6/30\n",
      "-------------------------------\n",
      "\n",
      "Training Loss per batch = 1.448332\tAccuracy on Training set = 70.956996% [2343/3302]\n",
      "\n",
      "Validation Loss per batch = 1.410244\tAccuracy on Validation set = 73.888889% [266/360]\n",
      "\n",
      "Epoch 7/30\n",
      "-------------------------------\n",
      "\n",
      "Training Loss per batch = 1.389744\tAccuracy on Training set = 71.350697% [2356/3302]\n",
      "\n",
      "Validation Loss per batch = 1.348668\tAccuracy on Validation set = 73.888889% [266/360]\n",
      "\n",
      "Epoch 8/30\n",
      "-------------------------------\n",
      "\n",
      "Training Loss per batch = 1.340668\tAccuracy on Training set = 72.047244% [2379/3302]\n",
      "\n",
      "Validation Loss per batch = 1.293145\tAccuracy on Validation set = 73.888889% [266/360]\n",
      "\n",
      "Epoch 9/30\n",
      "-------------------------------\n",
      "\n",
      "Training Loss per batch = 1.293194\tAccuracy on Training set = 72.834646% [2405/3302]\n",
      "\n",
      "Validation Loss per batch = 1.249700\tAccuracy on Validation set = 74.722222% [269/360]\n",
      "\n",
      "Epoch 10/30\n",
      "-------------------------------\n",
      "\n",
      "Training Loss per batch = 1.248711\tAccuracy on Training set = 72.259237% [2386/3302]\n",
      "\n",
      "Validation Loss per batch = 1.199286\tAccuracy on Validation set = 74.722222% [269/360]\n",
      "\n",
      "Epoch 11/30\n",
      "-------------------------------\n",
      "\n",
      "Training Loss per batch = 1.207812\tAccuracy on Training set = 72.289522% [2387/3302]\n",
      "\n",
      "Validation Loss per batch = 1.163871\tAccuracy on Validation set = 75.555556% [272/360]\n",
      "\n",
      "Epoch 12/30\n",
      "-------------------------------\n",
      "\n",
      "Training Loss per batch = 1.172339\tAccuracy on Training set = 73.228346% [2418/3302]\n",
      "\n",
      "Validation Loss per batch = 1.130149\tAccuracy on Validation set = 73.055556% [263/360]\n",
      "\n",
      "Epoch 13/30\n",
      "-------------------------------\n",
      "\n",
      "Training Loss per batch = 1.130881\tAccuracy on Training set = 72.471230% [2393/3302]\n",
      "\n",
      "Validation Loss per batch = 1.078547\tAccuracy on Validation set = 73.055556% [263/360]\n",
      "\n",
      "Epoch 14/30\n",
      "-------------------------------\n",
      "\n",
      "Training Loss per batch = 1.092146\tAccuracy on Training set = 72.319806% [2388/3302]\n",
      "\n",
      "Validation Loss per batch = 1.040259\tAccuracy on Validation set = 75.000000% [270/360]\n",
      "\n",
      "Epoch 15/30\n",
      "-------------------------------\n",
      "\n",
      "Training Loss per batch = 1.052988\tAccuracy on Training set = 72.804361% [2404/3302]\n",
      "\n",
      "Validation Loss per batch = 1.001943\tAccuracy on Validation set = 73.611111% [265/360]\n",
      "\n",
      "Epoch 16/30\n",
      "-------------------------------\n",
      "\n",
      "Training Loss per batch = 1.009724\tAccuracy on Training set = 72.501514% [2394/3302]\n",
      "\n",
      "Validation Loss per batch = 0.947643\tAccuracy on Validation set = 74.444444% [268/360]\n",
      "\n",
      "Epoch 17/30\n",
      "-------------------------------\n",
      "\n",
      "Training Loss per batch = 0.971496\tAccuracy on Training set = 73.349485% [2422/3302]\n",
      "\n",
      "Validation Loss per batch = 0.983199\tAccuracy on Validation set = 76.111111% [274/360]\n",
      "\n",
      "Epoch 18/30\n",
      "-------------------------------\n",
      "\n",
      "Training Loss per batch = 0.932078\tAccuracy on Training set = 74.560872% [2462/3302]\n",
      "\n",
      "Validation Loss per batch = 0.910614\tAccuracy on Validation set = 75.000000% [270/360]\n",
      "\n",
      "Epoch 19/30\n",
      "-------------------------------\n",
      "\n",
      "Training Loss per batch = 0.902069\tAccuracy on Training set = 74.076317% [2446/3302]\n",
      "\n",
      "Validation Loss per batch = 0.930541\tAccuracy on Validation set = 73.611111% [265/360]\n",
      "\n",
      "Epoch 20/30\n",
      "-------------------------------\n",
      "\n",
      "Training Loss per batch = 0.880442\tAccuracy on Training set = 75.408843% [2490/3302]\n",
      "\n",
      "Validation Loss per batch = 0.874294\tAccuracy on Validation set = 75.555556% [272/360]\n",
      "\n",
      "Epoch 21/30\n",
      "-------------------------------\n",
      "\n",
      "Training Loss per batch = 0.847308\tAccuracy on Training set = 76.226529% [2517/3302]\n",
      "\n",
      "Validation Loss per batch = 0.848481\tAccuracy on Validation set = 75.833333% [273/360]\n",
      "\n",
      "Epoch 22/30\n",
      "-------------------------------\n",
      "\n",
      "Training Loss per batch = 0.819338\tAccuracy on Training set = 76.680800% [2532/3302]\n",
      "\n",
      "Validation Loss per batch = 0.816524\tAccuracy on Validation set = 78.611111% [283/360]\n",
      "\n",
      "Epoch 23/30\n",
      "-------------------------------\n",
      "\n",
      "Training Loss per batch = 0.805273\tAccuracy on Training set = 77.589340% [2562/3302]\n",
      "\n",
      "Validation Loss per batch = 0.805752\tAccuracy on Validation set = 77.777778% [280/360]\n",
      "\n",
      "Epoch 24/30\n",
      "-------------------------------\n",
      "\n",
      "Training Loss per batch = 0.787513\tAccuracy on Training set = 78.588734% [2595/3302]\n",
      "\n",
      "Validation Loss per batch = 0.859502\tAccuracy on Validation set = 81.666667% [294/360]\n",
      "\n",
      "Epoch 25/30\n",
      "-------------------------------\n",
      "\n",
      "Training Loss per batch = 0.776164\tAccuracy on Training set = 79.436705% [2623/3302]\n",
      "\n",
      "Validation Loss per batch = 0.883027\tAccuracy on Validation set = 77.777778% [280/360]\n",
      "\n",
      "Epoch 26/30\n",
      "-------------------------------\n",
      "\n",
      "Training Loss per batch = 0.745588\tAccuracy on Training set = 80.284676% [2651/3302]\n",
      "\n",
      "Validation Loss per batch = 0.811294\tAccuracy on Validation set = 81.111111% [292/360]\n",
      "\n",
      "Epoch 27/30\n",
      "-------------------------------\n",
      "\n",
      "Training Loss per batch = 0.720298\tAccuracy on Training set = 80.769231% [2667/3302]\n",
      "\n",
      "Validation Loss per batch = 0.794303\tAccuracy on Validation set = 80.555556% [290/360]\n",
      "\n",
      "Epoch 28/30\n",
      "-------------------------------\n",
      "\n",
      "Training Loss per batch = 0.697857\tAccuracy on Training set = 81.465778% [2690/3302]\n",
      "\n",
      "Validation Loss per batch = 0.792979\tAccuracy on Validation set = 78.055556% [281/360]\n",
      "\n",
      "Epoch 29/30\n",
      "-------------------------------\n",
      "\n",
      "Training Loss per batch = 0.684656\tAccuracy on Training set = 81.526348% [2692/3302]\n",
      "\n",
      "Validation Loss per batch = 0.796130\tAccuracy on Validation set = 81.944444% [295/360]\n",
      "\n",
      "Epoch 30/30\n",
      "-------------------------------\n",
      "\n",
      "Training Loss per batch = 0.654470\tAccuracy on Training set = 83.010297% [2741/3302]\n",
      "\n",
      "Validation Loss per batch = 0.783904\tAccuracy on Validation set = 82.222222% [296/360]\n",
      "\n",
      "Training has completed!\n"
     ]
    }
   ],
   "source": [
    "loss_fn   = nn.CrossEntropyLoss(weight=class_weights) #CrossEntropyLoss with class_weights.\n",
    "optimizer = torch.optim.SGD(model.parameters(),lr=0.001) \n",
    "nb_epochs = 30\n",
    "#Call the optimize function.\n",
    "train_losses, valid_losses = optimize(train_dataloader,valid_dataloader,model,loss_fn,optimizer,nb_epochs)"
   ]
  },
  {
   "cell_type": "code",
   "execution_count": 16,
   "metadata": {
    "execution": {
     "iopub.execute_input": "2021-08-14T18:03:58.224937Z",
     "iopub.status.busy": "2021-08-14T18:03:58.224077Z",
     "iopub.status.idle": "2021-08-14T18:03:58.347800Z",
     "shell.execute_reply": "2021-08-14T18:03:58.348208Z"
    },
    "papermill": {
     "duration": 0.183372,
     "end_time": "2021-08-14T18:03:58.348350",
     "exception": false,
     "start_time": "2021-08-14T18:03:58.164978",
     "status": "completed"
    },
    "tags": []
   },
   "outputs": [
    {
     "data": {
      "image/png": "[encoded data removed]",
      "text/plain": [
       "<Figure size 432x288 with 1 Axes>"
      ]
     },
     "metadata": {
      "needs_background": "light"
     },
     "output_type": "display_data"
    }
   ],
   "source": [
    "#Plot the graph of train_losses & valid_losses against nb_epochs.\n",
    "epochs = range(nb_epochs)\n",
    "plt.plot(epochs, train_losses, 'g', label='Training loss')\n",
    "plt.plot(epochs, valid_losses, 'b', label='validation loss')\n",
    "plt.title('Training and Validation loss')\n",
    "plt.xlabel('Epochs')\n",
    "plt.ylabel('Loss')\n",
    "plt.legend()\n",
    "plt.show()"
   ]
  },
  {
   "cell_type": "markdown",
   "metadata": {
    "papermill": {
     "duration": 0.041297,
     "end_time": "2021-08-14T18:03:58.431485",
     "exception": false,
     "start_time": "2021-08-14T18:03:58.390188",
     "status": "completed"
    },
    "tags": []
   },
   "source": [
    "## Testing the model"
   ]
  },
  {
   "cell_type": "code",
   "execution_count": 17,
   "metadata": {
    "execution": {
     "iopub.execute_input": "2021-08-14T18:03:58.519880Z",
     "iopub.status.busy": "2021-08-14T18:03:58.519099Z",
     "iopub.status.idle": "2021-08-14T18:03:58.522072Z",
     "shell.execute_reply": "2021-08-14T18:03:58.521590Z",
     "shell.execute_reply.started": "2021-08-12T14:32:02.43183Z"
    },
    "papermill": {
     "duration": 0.048753,
     "end_time": "2021-08-14T18:03:58.522176",
     "exception": false,
     "start_time": "2021-08-14T18:03:58.473423",
     "status": "completed"
    },
    "tags": []
   },
   "outputs": [],
   "source": [
    "test_set = dataset(test_df,f'{path}test_images',image_transform = image_transform,train = False )\n",
    "\n",
    "test_dataloader = DataLoader(test_set, batch_size=32, shuffle=False) #DataLoader for test_set."
   ]
  },
  {
   "cell_type": "code",
   "execution_count": 18,
   "metadata": {
    "execution": {
     "iopub.execute_input": "2021-08-14T18:03:58.612117Z",
     "iopub.status.busy": "2021-08-14T18:03:58.611274Z",
     "iopub.status.idle": "2021-08-14T18:03:58.613876Z",
     "shell.execute_reply": "2021-08-14T18:03:58.613470Z",
     "shell.execute_reply.started": "2021-08-13T16:17:31.200665Z"
    },
    "papermill": {
     "duration": 0.049879,
     "end_time": "2021-08-14T18:03:58.613988",
     "exception": false,
     "start_time": "2021-08-14T18:03:58.564109",
     "status": "completed"
    },
    "tags": []
   },
   "outputs": [],
   "source": [
    "def test(dataloader,model):\n",
    "    '''\n",
    "    test function predicts the labels given an image batches.\n",
    "    \n",
    "    Args :\n",
    "         dataloader: DataLoader for the test_set.\n",
    "         model: Given an input produces an output by multiplying the input with the model weights.\n",
    "         \n",
    "    Returns :\n",
    "         List of predicted labels.\n",
    "    '''\n",
    "    \n",
    "    model.eval() #Sets the model for evaluation.\n",
    "    \n",
    "    labels = [] #List to store the predicted labels.\n",
    "    \n",
    "    with torch.no_grad():\n",
    "        \n",
    "        for batch,x in enumerate(dataloader):\n",
    "            \n",
    "            output = model(x.to(device))\n",
    "            \n",
    "            predictions = output.argmax(dim=1).cpu().detach().tolist() #Predicted labels for an image batch.\n",
    "            labels.extend(predictions)\n",
    "                \n",
    "    print('Testing has completed')\n",
    "            \n",
    "    return labels                "
   ]
  },
  {
   "cell_type": "code",
   "execution_count": 19,
   "metadata": {
    "execution": {
     "iopub.execute_input": "2021-08-14T18:03:58.702201Z",
     "iopub.status.busy": "2021-08-14T18:03:58.701451Z",
     "iopub.status.idle": "2021-08-14T18:06:31.466071Z",
     "shell.execute_reply": "2021-08-14T18:06:31.466502Z",
     "shell.execute_reply.started": "2021-08-12T14:32:06.861158Z"
    },
    "papermill": {
     "duration": 152.811132,
     "end_time": "2021-08-14T18:06:31.466658",
     "exception": false,
     "start_time": "2021-08-14T18:03:58.655526",
     "status": "completed"
    },
    "tags": []
   },
   "outputs": [
    {
     "name": "stdout",
     "output_type": "stream",
     "text": [
      "Testing has completed\n"
     ]
    }
   ],
   "source": [
    "labels = test(test_dataloader,model) #Calls the test function."
   ]
  },
  {
   "cell_type": "markdown",
   "metadata": {
    "papermill": {
     "duration": 0.042447,
     "end_time": "2021-08-14T18:06:31.734238",
     "exception": false,
     "start_time": "2021-08-14T18:06:31.691791",
     "status": "completed"
    },
    "tags": []
   },
   "source": [
    "We can able to increase the accuracy of the model by various ways, like increasing the dataset size, increasing the model complexity, using ensemble models, and increasing the number of epochs."
   ]
  }
 ],
 "metadata": {
  "kernelspec": {
   "display_name": "Python 3",
   "language": "python",
   "name": "python3"
  },
  "language_info": {
   "codemirror_mode": {
    "name": "ipython",
    "version": 3
   },
   "file_extension": ".py",
   "mimetype": "text/x-python",
   "name": "python",
   "nbconvert_exporter": "python",
   "pygments_lexer": "ipython3",
   "version": "3.8.10"
  },
  "papermill": {
   "default_parameters": {},
   "duration": 14739.300619,
   "end_time": "2021-08-14T18:06:33.735084",
   "environment_variables": {},
   "exception": null,
   "input_path": "__notebook__.ipynb",
   "output_path": "__notebook__.ipynb",
   "parameters": {},
   "start_time": "2021-08-14T14:00:54.434465",
   "version": "2.3.3"
  },
  "widgets": {
   "application/vnd.jupyter.widget-state+json": {
    "state": {
     "0db761a4d64c428fb40738eb7102eb72": {
      "model_module": "@jupyter-widgets/controls",
      "model_module_version": "1.5.0",
      "model_name": "DescriptionStyleModel",
      "state": {
       "_model_module": "@jupyter-widgets/controls",
       "_model_module_version": "1.5.0",
       "_model_name": "DescriptionStyleModel",
       "_view_count": null,
       "_view_module": "@jupyter-widgets/base",
       "_view_module_version": "1.2.0",
       "_view_name": "StyleView",
       "description_width": ""
      }
     },
     "3d4710cd7e6942b1ab6dcaca595702a6": {
      "model_module": "@jupyter-widgets/base",
      "model_module_version": "1.2.0",
      "model_name": "LayoutModel",
      "state": {
       "_model_module": "@jupyter-widgets/base",
       "_model_module_version": "1.2.0",
       "_model_name": "LayoutModel",
       "_view_count": null,
       "_view_module": "@jupyter-widgets/base",
       "_view_module_version": "1.2.0",
       "_view_name": "LayoutView",
       "align_content": null,
       "align_items": null,
       "align_self": null,
       "border": null,
       "bottom": null,
       "display": null,
       "flex": null,
       "flex_flow": null,
       "grid_area": null,
       "grid_auto_columns": null,
       "grid_auto_flow": null,
       "grid_auto_rows": null,
       "grid_column": null,
       "grid_gap": null,
       "grid_row": null,
       "grid_template_areas": null,
       "grid_template_columns": null,
       "grid_template_rows": null,
       "height": null,
       "justify_content": null,
       "justify_items": null,
       "left": null,
       "margin": null,
       "max_height": null,
       "max_width": null,
       "min_height": null,
       "min_width": null,
       "object_fit": null,
       "object_position": null,
       "order": null,
       "overflow": null,
       "overflow_x": null,
       "overflow_y": null,
       "padding": null,
       "right": null,
       "top": null,
       "visibility": null,
       "width": null
      }
     },
     "3f12ae83e1074f7da885b98d2a9cb492": {
      "model_module": "@jupyter-widgets/controls",
      "model_module_version": "1.5.0",
      "model_name": "HTMLModel",
      "state": {
       "_dom_classes": [],
       "_model_module": "@jupyter-widgets/controls",
       "_model_module_version": "1.5.0",
       "_model_name": "HTMLModel",
       "_view_count": null,
       "_view_module": "@jupyter-widgets/controls",
       "_view_module_version": "1.5.0",
       "_view_name": "HTMLView",
       "description": "",
       "description_tooltip": null,
       "layout": "IPY_MODEL_8e40af8bf0274805a09a2f728b5b9bf3",
       "placeholder": "​",
       "style": "IPY_MODEL_0db761a4d64c428fb40738eb7102eb72",
       "value": "100%"
      }
     },
     "58f64a5a910d403d94bf6245becc2d9a": {
      "model_module": "@jupyter-widgets/base",
      "model_module_version": "1.2.0",
      "model_name": "LayoutModel",
      "state": {
       "_model_module": "@jupyter-widgets/base",
       "_model_module_version": "1.2.0",
       "_model_name": "LayoutModel",
       "_view_count": null,
       "_view_module": "@jupyter-widgets/base",
       "_view_module_version": "1.2.0",
       "_view_name": "LayoutView",
       "align_content": null,
       "align_items": null,
       "align_self": null,
       "border": null,
       "bottom": null,
       "display": null,
       "flex": null,
       "flex_flow": null,
       "grid_area": null,
       "grid_auto_columns": null,
       "grid_auto_flow": null,
       "grid_auto_rows": null,
       "grid_column": null,
       "grid_gap": null,
       "grid_row": null,
       "grid_template_areas": null,
       "grid_template_columns": null,
       "grid_template_rows": null,
       "height": null,
       "justify_content": null,
       "justify_items": null,
       "left": null,
       "margin": null,
       "max_height": null,
       "max_width": null,
       "min_height": null,
       "min_width": null,
       "object_fit": null,
       "object_position": null,
       "order": null,
       "overflow": null,
       "overflow_x": null,
       "overflow_y": null,
       "padding": null,
       "right": null,
       "top": null,
       "visibility": null,
       "width": null
      }
     },
     "64ce717ebfad411faf6e93ed9d752e80": {
      "model_module": "@jupyter-widgets/controls",
      "model_module_version": "1.5.0",
      "model_name": "HBoxModel",
      "state": {
       "_dom_classes": [],
       "_model_module": "@jupyter-widgets/controls",
       "_model_module_version": "1.5.0",
       "_model_name": "HBoxModel",
       "_view_count": null,
       "_view_module": "@jupyter-widgets/controls",
       "_view_module_version": "1.5.0",
       "_view_name": "HBoxView",
       "box_style": "",
       "children": [
        "IPY_MODEL_3f12ae83e1074f7da885b98d2a9cb492",
        "IPY_MODEL_853ccdccda514c668f7cc1351039839a",
        "IPY_MODEL_b2f40ec73ba24d0d8d6ab7190d3ba1f6"
       ],
       "layout": "IPY_MODEL_ee2819ae3e7041629fba0d01145f8319"
      }
     },
     "6fecb59af22a4d7aa283b6d8635f0cb9": {
      "model_module": "@jupyter-widgets/controls",
      "model_module_version": "1.5.0",
      "model_name": "DescriptionStyleModel",
      "state": {
       "_model_module": "@jupyter-widgets/controls",
       "_model_module_version": "1.5.0",
       "_model_name": "DescriptionStyleModel",
       "_view_count": null,
       "_view_module": "@jupyter-widgets/base",
       "_view_module_version": "1.2.0",
       "_view_name": "StyleView",
       "description_width": ""
      }
     },
     "853ccdccda514c668f7cc1351039839a": {
      "model_module": "@jupyter-widgets/controls",
      "model_module_version": "1.5.0",
      "model_name": "FloatProgressModel",
      "state": {
       "_dom_classes": [],
       "_model_module": "@jupyter-widgets/controls",
       "_model_module_version": "1.5.0",
       "_model_name": "FloatProgressModel",
       "_view_count": null,
       "_view_module": "@jupyter-widgets/controls",
       "_view_module_version": "1.5.0",
       "_view_name": "ProgressView",
       "bar_style": "success",
       "description": "",
       "description_tooltip": null,
       "layout": "IPY_MODEL_3d4710cd7e6942b1ab6dcaca595702a6",
       "max": 87306240,
       "min": 0,
       "orientation": "horizontal",
       "style": "IPY_MODEL_ceff21c4101d446d8cd4d149a9fd692e",
       "value": 87306240
      }
     },
     "8e40af8bf0274805a09a2f728b5b9bf3": {
      "model_module": "@jupyter-widgets/base",
      "model_module_version": "1.2.0",
      "model_name": "LayoutModel",
      "state": {
       "_model_module": "@jupyter-widgets/base",
       "_model_module_version": "1.2.0",
       "_model_name": "LayoutModel",
       "_view_count": null,
       "_view_module": "@jupyter-widgets/base",
       "_view_module_version": "1.2.0",
       "_view_name": "LayoutView",
       "align_content": null,
       "align_items": null,
       "align_self": null,
       "border": null,
       "bottom": null,
       "display": null,
       "flex": null,
       "flex_flow": null,
       "grid_area": null,
       "grid_auto_columns": null,
       "grid_auto_flow": null,
       "grid_auto_rows": null,
       "grid_column": null,
       "grid_gap": null,
       "grid_row": null,
       "grid_template_areas": null,
       "grid_template_columns": null,
       "grid_template_rows": null,
       "height": null,
       "justify_content": null,
       "justify_items": null,
       "left": null,
       "margin": null,
       "max_height": null,
       "max_width": null,
       "min_height": null,
       "min_width": null,
       "object_fit": null,
       "object_position": null,
       "order": null,
       "overflow": null,
       "overflow_x": null,
       "overflow_y": null,
       "padding": null,
       "right": null,
       "top": null,
       "visibility": null,
       "width": null
      }
     },
     "b2f40ec73ba24d0d8d6ab7190d3ba1f6": {
      "model_module": "@jupyter-widgets/controls",
      "model_module_version": "1.5.0",
      "model_name": "HTMLModel",
      "state": {
       "_dom_classes": [],
       "_model_module": "@jupyter-widgets/controls",
       "_model_module_version": "1.5.0",
       "_model_name": "HTMLModel",
       "_view_count": null,
       "_view_module": "@jupyter-widgets/controls",
       "_view_module_version": "1.5.0",
       "_view_name": "HTMLView",
       "description": "",
       "description_tooltip": null,
       "layout": "IPY_MODEL_58f64a5a910d403d94bf6245becc2d9a",
       "placeholder": "​",
       "style": "IPY_MODEL_6fecb59af22a4d7aa283b6d8635f0cb9",
       "value": " 83.3M/83.3M [00:00&lt;00:00, 122MB/s]"
      }
     },
     "ceff21c4101d446d8cd4d149a9fd692e": {
      "model_module": "@jupyter-widgets/controls",
      "model_module_version": "1.5.0",
      "model_name": "ProgressStyleModel",
      "state": {
       "_model_module": "@jupyter-widgets/controls",
       "_model_module_version": "1.5.0",
       "_model_name": "ProgressStyleModel",
       "_view_count": null,
       "_view_module": "@jupyter-widgets/base",
       "_view_module_version": "1.2.0",
       "_view_name": "StyleView",
       "bar_color": null,
       "description_width": ""
      }
     },
     "ee2819ae3e7041629fba0d01145f8319": {
      "model_module": "@jupyter-widgets/base",
      "model_module_version": "1.2.0",
      "model_name": "LayoutModel",
      "state": {
       "_model_module": "@jupyter-widgets/base",
       "_model_module_version": "1.2.0",
       "_model_name": "LayoutModel",
       "_view_count": null,
       "_view_module": "@jupyter-widgets/base",
       "_view_module_version": "1.2.0",
       "_view_name": "LayoutView",
       "align_content": null,
       "align_items": null,
       "align_self": null,
       "border": null,
       "bottom": null,
       "display": null,
       "flex": null,
       "flex_flow": null,
       "grid_area": null,
       "grid_auto_columns": null,
       "grid_auto_flow": null,
       "grid_auto_rows": null,
       "grid_column": null,
       "grid_gap": null,
       "grid_row": null,
       "grid_template_areas": null,
       "grid_template_columns": null,
       "grid_template_rows": null,
       "height": null,
       "justify_content": null,
       "justify_items": null,
       "left": null,
       "margin": null,
       "max_height": null,
       "max_width": null,
       "min_height": null,
       "min_width": null,
       "object_fit": null,
       "object_position": null,
       "order": null,
       "overflow": null,
       "overflow_x": null,
       "overflow_y": null,
       "padding": null,
       "right": null,
       "top": null,
       "visibility": null,
       "width": null
      }
     }
    },
    "version_major": 2,
    "version_minor": 0
   }
  }
 },
 "nbformat": 4,
 "nbformat_minor": 5
}
